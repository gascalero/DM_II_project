{
 "cells": [
  {
   "cell_type": "code",
   "execution_count": 1,
   "metadata": {},
   "outputs": [],
   "source": [
    "import pandas as pd\n",
    "import matplotlib.pyplot as plt\n",
    "%matplotlib inline\n",
    "import seaborn as sns\n",
    "#from google.colab import drive"
   ]
  },
  {
   "cell_type": "code",
   "execution_count": 2,
   "metadata": {},
   "outputs": [],
   "source": [
    "#drive.mount('/content/drive') # Uncomment if loading from Google Drive\n",
    "#cancer_df = pd.read_csv('/content/drive/My Drive/PROYECTOS/DM_II_project/data/raw/patient_train_data.csv') # Uncomment if loading from Google Drive .Load the data from Google Drive\n",
    "cancer_df = pd.read_csv('g:/Mi unidad/PROYECTOS/DM_II_project/data/raw/patient_train_data.csv') # Uncomment if loading from local directory"
   ]
  },
  {
   "cell_type": "code",
   "execution_count": 3,
   "metadata": {},
   "outputs": [
    {
     "data": {
      "text/html": [
       "<div>\n",
       "<style scoped>\n",
       "    .dataframe tbody tr th:only-of-type {\n",
       "        vertical-align: middle;\n",
       "    }\n",
       "\n",
       "    .dataframe tbody tr th {\n",
       "        vertical-align: top;\n",
       "    }\n",
       "\n",
       "    .dataframe thead th {\n",
       "        text-align: right;\n",
       "    }\n",
       "</style>\n",
       "<table border=\"1\" class=\"dataframe\">\n",
       "  <thead>\n",
       "    <tr style=\"text-align: right;\">\n",
       "      <th></th>\n",
       "      <th>ID</th>\n",
       "      <th>Alcohol Consumption</th>\n",
       "      <th>Cancer Stage</th>\n",
       "      <th>Country</th>\n",
       "      <th>Date of Birth</th>\n",
       "      <th>Diabetes</th>\n",
       "      <th>Diabetes History</th>\n",
       "      <th>Diet Risk</th>\n",
       "      <th>Early Detection</th>\n",
       "      <th>Family History</th>\n",
       "      <th>...</th>\n",
       "      <th>Non Smoker</th>\n",
       "      <th>Obesity BMI</th>\n",
       "      <th>Physical Activity</th>\n",
       "      <th>Screening History</th>\n",
       "      <th>Smoking History</th>\n",
       "      <th>Transfusion History</th>\n",
       "      <th>Treatment Type</th>\n",
       "      <th>Tumor Size (mm)</th>\n",
       "      <th>Urban or Rural</th>\n",
       "      <th>Survival Prediction</th>\n",
       "    </tr>\n",
       "  </thead>\n",
       "  <tbody>\n",
       "    <tr>\n",
       "      <th>0</th>\n",
       "      <td>1</td>\n",
       "      <td>No</td>\n",
       "      <td>Localized</td>\n",
       "      <td>UK</td>\n",
       "      <td>29-01-1966</td>\n",
       "      <td>No</td>\n",
       "      <td>No</td>\n",
       "      <td>Moderate</td>\n",
       "      <td>No</td>\n",
       "      <td>No</td>\n",
       "      <td>...</td>\n",
       "      <td>Yes</td>\n",
       "      <td>Overweight</td>\n",
       "      <td>Low</td>\n",
       "      <td>Regular</td>\n",
       "      <td>No</td>\n",
       "      <td>-</td>\n",
       "      <td>Chemotherapy</td>\n",
       "      <td>33.0</td>\n",
       "      <td>Urban</td>\n",
       "      <td>Yes</td>\n",
       "    </tr>\n",
       "    <tr>\n",
       "      <th>1</th>\n",
       "      <td>2</td>\n",
       "      <td>No</td>\n",
       "      <td>Regional</td>\n",
       "      <td>Japan</td>\n",
       "      <td>21-12-1958</td>\n",
       "      <td>No</td>\n",
       "      <td>No</td>\n",
       "      <td>Low</td>\n",
       "      <td>No</td>\n",
       "      <td>No</td>\n",
       "      <td>...</td>\n",
       "      <td>No</td>\n",
       "      <td>Normal</td>\n",
       "      <td>Low</td>\n",
       "      <td>Irregular</td>\n",
       "      <td>Yes</td>\n",
       "      <td>-</td>\n",
       "      <td>Chemotherapy</td>\n",
       "      <td>17.0</td>\n",
       "      <td>Urban</td>\n",
       "      <td>No</td>\n",
       "    </tr>\n",
       "    <tr>\n",
       "      <th>2</th>\n",
       "      <td>3</td>\n",
       "      <td>No</td>\n",
       "      <td>Localized</td>\n",
       "      <td>France</td>\n",
       "      <td>16-06-1959</td>\n",
       "      <td>No</td>\n",
       "      <td>No</td>\n",
       "      <td>Low</td>\n",
       "      <td>Yes</td>\n",
       "      <td>No</td>\n",
       "      <td>...</td>\n",
       "      <td>No</td>\n",
       "      <td>Normal</td>\n",
       "      <td>Moderate</td>\n",
       "      <td>Never</td>\n",
       "      <td>Yes</td>\n",
       "      <td>-</td>\n",
       "      <td>Surgery</td>\n",
       "      <td>34.0</td>\n",
       "      <td>Urban</td>\n",
       "      <td>Yes</td>\n",
       "    </tr>\n",
       "    <tr>\n",
       "      <th>3</th>\n",
       "      <td>4</td>\n",
       "      <td>Yes</td>\n",
       "      <td>Localized</td>\n",
       "      <td>Japan</td>\n",
       "      <td>18-01-1956</td>\n",
       "      <td>Yes</td>\n",
       "      <td>No</td>\n",
       "      <td>Moderate</td>\n",
       "      <td>No</td>\n",
       "      <td>No</td>\n",
       "      <td>...</td>\n",
       "      <td>Yes</td>\n",
       "      <td>Obese</td>\n",
       "      <td>Low</td>\n",
       "      <td>Regular</td>\n",
       "      <td>No</td>\n",
       "      <td>-</td>\n",
       "      <td>Radiotherapy</td>\n",
       "      <td>71.0</td>\n",
       "      <td>Urban</td>\n",
       "      <td>No</td>\n",
       "    </tr>\n",
       "    <tr>\n",
       "      <th>4</th>\n",
       "      <td>5</td>\n",
       "      <td>No</td>\n",
       "      <td>Regional</td>\n",
       "      <td>USA</td>\n",
       "      <td>04-05-1975</td>\n",
       "      <td>No</td>\n",
       "      <td>No</td>\n",
       "      <td>Moderate</td>\n",
       "      <td>Yes</td>\n",
       "      <td>Yes</td>\n",
       "      <td>...</td>\n",
       "      <td>Yes</td>\n",
       "      <td>Overweight</td>\n",
       "      <td>Low</td>\n",
       "      <td>Regular</td>\n",
       "      <td>No</td>\n",
       "      <td>-</td>\n",
       "      <td>Radiotherapy</td>\n",
       "      <td>48.0</td>\n",
       "      <td>Rural</td>\n",
       "      <td>Yes</td>\n",
       "    </tr>\n",
       "  </tbody>\n",
       "</table>\n",
       "<p>5 rows × 32 columns</p>\n",
       "</div>"
      ],
      "text/plain": [
       "   ID Alcohol Consumption Cancer Stage Country Date of Birth Diabetes  \\\n",
       "0   1                  No    Localized      UK    29-01-1966       No   \n",
       "1   2                  No     Regional   Japan    21-12-1958       No   \n",
       "2   3                  No    Localized  France    16-06-1959       No   \n",
       "3   4                 Yes    Localized   Japan    18-01-1956      Yes   \n",
       "4   5                  No     Regional     USA    04-05-1975       No   \n",
       "\n",
       "  Diabetes History Diet Risk Early Detection Family History  ... Non Smoker  \\\n",
       "0               No  Moderate              No             No  ...        Yes   \n",
       "1               No       Low              No             No  ...         No   \n",
       "2               No       Low             Yes             No  ...         No   \n",
       "3               No  Moderate              No             No  ...        Yes   \n",
       "4               No  Moderate             Yes            Yes  ...        Yes   \n",
       "\n",
       "  Obesity BMI Physical Activity  Screening History Smoking History  \\\n",
       "0  Overweight               Low            Regular              No   \n",
       "1      Normal               Low          Irregular             Yes   \n",
       "2      Normal          Moderate              Never             Yes   \n",
       "3       Obese               Low            Regular              No   \n",
       "4  Overweight               Low            Regular              No   \n",
       "\n",
       "  Transfusion History  Treatment Type Tumor Size (mm) Urban or Rural  \\\n",
       "0                   -    Chemotherapy            33.0          Urban   \n",
       "1                   -    Chemotherapy            17.0          Urban   \n",
       "2                   -         Surgery            34.0          Urban   \n",
       "3                   -    Radiotherapy            71.0          Urban   \n",
       "4                   -    Radiotherapy            48.0          Rural   \n",
       "\n",
       "  Survival Prediction  \n",
       "0                 Yes  \n",
       "1                  No  \n",
       "2                 Yes  \n",
       "3                  No  \n",
       "4                 Yes  \n",
       "\n",
       "[5 rows x 32 columns]"
      ]
     },
     "execution_count": 3,
     "metadata": {},
     "output_type": "execute_result"
    }
   ],
   "source": [
    "cancer_df.head()"
   ]
  },
  {
   "cell_type": "markdown",
   "metadata": {},
   "source": [
    "# 1. Basic cleaning and data split"
   ]
  },
  {
   "cell_type": "markdown",
   "metadata": {},
   "source": [
    "Three columns were dropped from the `cancer_df` dataframe: 'Diabetes History', 'Marital Status', and 'Transfusion History'."
   ]
  },
  {
   "cell_type": "code",
   "execution_count": 33,
   "metadata": {},
   "outputs": [],
   "source": [
    "cancer_df_reduced = cancer_df.drop(columns=['Diabetes History', 'Marital Status', 'Transfusion History'], axis=1).copy()"
   ]
  },
  {
   "cell_type": "markdown",
   "metadata": {},
   "source": [
    "The country names in the `cancer_df_reduced` dataframe were replaced by their respective continents to reduce the cardinality of the categorical variable. This helps in simplifying the analysis and modeling by grouping countries into broader regions."
   ]
  },
  {
   "cell_type": "code",
   "execution_count": 34,
   "metadata": {},
   "outputs": [
    {
     "data": {
      "text/plain": [
       "array(['UK', 'Japan', 'France', 'USA', 'China', 'South Korea', 'Brazil',\n",
       "       'Germany', 'Canada', 'Pakistan', 'Italy', 'New Zealand',\n",
       "       'South Africa', 'India', 'Nigeria', 'Australia', nan], dtype=object)"
      ]
     },
     "execution_count": 34,
     "metadata": {},
     "output_type": "execute_result"
    }
   ],
   "source": [
    "cancer_df_reduced['Country'].unique()"
   ]
  },
  {
   "cell_type": "code",
   "execution_count": 35,
   "metadata": {},
   "outputs": [
    {
     "data": {
      "text/plain": [
       "0           Europe\n",
       "1             Asia\n",
       "2           Europe\n",
       "3             Asia\n",
       "4    North America\n",
       "Name: Continent, dtype: object"
      ]
     },
     "execution_count": 35,
     "metadata": {},
     "output_type": "execute_result"
    }
   ],
   "source": [
    "continents = {\n",
    "    'USA': 'North America',\n",
    "    'Brazil': 'South America',\n",
    "    'Germany': 'Europe',\n",
    "    'France': 'Europe',\n",
    "    'Italy': 'Europe',\n",
    "    'UK': 'Europe',\n",
    "    'China': 'Asia',\n",
    "    'Japan': 'Asia',\n",
    "    'India': 'Asia',\n",
    "    'South Korea': 'Asia',\n",
    "    'Pakistan': 'Asia',\n",
    "    'South Africa': 'Africa',\n",
    "    'Nigeria': 'Africa',\n",
    "    'Australia': 'Oceania',\n",
    "    'New Zealand': 'Oceania'\n",
    "}\n",
    "cancer_df_reduced['Continent'] = cancer_df_reduced['Country'].replace(continents)\n",
    "cancer_df_reduced.drop(columns=['Country'], inplace=True)\n",
    "cancer_df_reduced['Continent'].head()"
   ]
  },
  {
   "cell_type": "markdown",
   "metadata": {},
   "source": [
    "The birth dates in the dataframe were converted to datetime format, and the age of each patient was calculated based on the current year. The original birth date column was then removed from the dataframe."
   ]
  },
  {
   "cell_type": "code",
   "execution_count": 36,
   "metadata": {},
   "outputs": [
    {
     "data": {
      "text/plain": [
       "0    59.0\n",
       "1    67.0\n",
       "2    66.0\n",
       "3    69.0\n",
       "4    50.0\n",
       "Name: Age, dtype: float64"
      ]
     },
     "execution_count": 36,
     "metadata": {},
     "output_type": "execute_result"
    }
   ],
   "source": [
    "from datetime import datetime\n",
    "\n",
    "cancer_df_reduced['Date of Birth'] = pd.to_datetime(cancer_df_reduced['Date of Birth'], format='%d-%m-%Y', errors='coerce')\n",
    "cancer_df_reduced['Age'] = cancer_df_reduced['Date of Birth'].apply(lambda x: datetime.now().year - x.year if pd.notnull(x) else None)\n",
    "cancer_df_reduced.drop(columns=['Date of Birth'], inplace=True)\n",
    "cancer_df_reduced['Age'].head()"
   ]
  },
  {
   "cell_type": "markdown",
   "metadata": {},
   "source": [
    "The 'Urban or Rural' column values were standardized by replacing 'urban' with 'Urban' and 'rural' with 'Rural' to ensure consistency in the dataset."
   ]
  },
  {
   "cell_type": "code",
   "execution_count": 37,
   "metadata": {},
   "outputs": [
    {
     "data": {
      "text/plain": [
       "array(['Urban', 'Rural', 'urban', 'rural', nan], dtype=object)"
      ]
     },
     "execution_count": 37,
     "metadata": {},
     "output_type": "execute_result"
    }
   ],
   "source": [
    "cancer_df_reduced['Urban or Rural'].unique()"
   ]
  },
  {
   "cell_type": "code",
   "execution_count": 38,
   "metadata": {},
   "outputs": [
    {
     "name": "stderr",
     "output_type": "stream",
     "text": [
      "C:\\Users\\Gabriel\\AppData\\Local\\Temp\\ipykernel_15828\\4237172287.py:1: FutureWarning: A value is trying to be set on a copy of a DataFrame or Series through chained assignment using an inplace method.\n",
      "The behavior will change in pandas 3.0. This inplace method will never work because the intermediate object on which we are setting values always behaves as a copy.\n",
      "\n",
      "For example, when doing 'df[col].method(value, inplace=True)', try using 'df.method({col: value}, inplace=True)' or df[col] = df[col].method(value) instead, to perform the operation inplace on the original object.\n",
      "\n",
      "\n",
      "  cancer_df_reduced['Urban or Rural'].replace({'urban': 'Urban', 'rural': 'Rural'}, inplace=True)\n"
     ]
    },
    {
     "data": {
      "text/plain": [
       "array(['Urban', 'Rural', nan], dtype=object)"
      ]
     },
     "execution_count": 38,
     "metadata": {},
     "output_type": "execute_result"
    }
   ],
   "source": [
    "cancer_df_reduced['Urban or Rural'].replace({'urban': 'Urban', 'rural': 'Rural'}, inplace=True)\n",
    "cancer_df_reduced['Urban or Rural'].unique()"
   ]
  },
  {
   "cell_type": "code",
   "execution_count": 39,
   "metadata": {},
   "outputs": [
    {
     "data": {
      "text/html": [
       "<div>\n",
       "<style scoped>\n",
       "    .dataframe tbody tr th:only-of-type {\n",
       "        vertical-align: middle;\n",
       "    }\n",
       "\n",
       "    .dataframe tbody tr th {\n",
       "        vertical-align: top;\n",
       "    }\n",
       "\n",
       "    .dataframe thead th {\n",
       "        text-align: right;\n",
       "    }\n",
       "</style>\n",
       "<table border=\"1\" class=\"dataframe\">\n",
       "  <thead>\n",
       "    <tr style=\"text-align: right;\">\n",
       "      <th></th>\n",
       "      <th>ID</th>\n",
       "      <th>Alcohol Consumption</th>\n",
       "      <th>Cancer Stage</th>\n",
       "      <th>Diabetes</th>\n",
       "      <th>Diet Risk</th>\n",
       "      <th>Early Detection</th>\n",
       "      <th>Family History</th>\n",
       "      <th>Gender</th>\n",
       "      <th>Genetic Mutation</th>\n",
       "      <th>Healthcare Access</th>\n",
       "      <th>...</th>\n",
       "      <th>Obesity BMI</th>\n",
       "      <th>Physical Activity</th>\n",
       "      <th>Screening History</th>\n",
       "      <th>Smoking History</th>\n",
       "      <th>Treatment Type</th>\n",
       "      <th>Tumor Size (mm)</th>\n",
       "      <th>Urban or Rural</th>\n",
       "      <th>Survival Prediction</th>\n",
       "      <th>Continent</th>\n",
       "      <th>Age</th>\n",
       "    </tr>\n",
       "  </thead>\n",
       "  <tbody>\n",
       "    <tr>\n",
       "      <th>0</th>\n",
       "      <td>1</td>\n",
       "      <td>No</td>\n",
       "      <td>Localized</td>\n",
       "      <td>No</td>\n",
       "      <td>Moderate</td>\n",
       "      <td>No</td>\n",
       "      <td>No</td>\n",
       "      <td>M</td>\n",
       "      <td>No</td>\n",
       "      <td>High</td>\n",
       "      <td>...</td>\n",
       "      <td>Overweight</td>\n",
       "      <td>Low</td>\n",
       "      <td>Regular</td>\n",
       "      <td>No</td>\n",
       "      <td>Chemotherapy</td>\n",
       "      <td>33.0</td>\n",
       "      <td>Urban</td>\n",
       "      <td>Yes</td>\n",
       "      <td>Europe</td>\n",
       "      <td>59.0</td>\n",
       "    </tr>\n",
       "    <tr>\n",
       "      <th>1</th>\n",
       "      <td>2</td>\n",
       "      <td>No</td>\n",
       "      <td>Regional</td>\n",
       "      <td>No</td>\n",
       "      <td>Low</td>\n",
       "      <td>No</td>\n",
       "      <td>No</td>\n",
       "      <td>M</td>\n",
       "      <td>No</td>\n",
       "      <td>Moderate</td>\n",
       "      <td>...</td>\n",
       "      <td>Normal</td>\n",
       "      <td>Low</td>\n",
       "      <td>Irregular</td>\n",
       "      <td>Yes</td>\n",
       "      <td>Chemotherapy</td>\n",
       "      <td>17.0</td>\n",
       "      <td>Urban</td>\n",
       "      <td>No</td>\n",
       "      <td>Asia</td>\n",
       "      <td>67.0</td>\n",
       "    </tr>\n",
       "    <tr>\n",
       "      <th>2</th>\n",
       "      <td>3</td>\n",
       "      <td>No</td>\n",
       "      <td>Localized</td>\n",
       "      <td>No</td>\n",
       "      <td>Low</td>\n",
       "      <td>Yes</td>\n",
       "      <td>No</td>\n",
       "      <td>M</td>\n",
       "      <td>No</td>\n",
       "      <td>High</td>\n",
       "      <td>...</td>\n",
       "      <td>Normal</td>\n",
       "      <td>Moderate</td>\n",
       "      <td>Never</td>\n",
       "      <td>Yes</td>\n",
       "      <td>Surgery</td>\n",
       "      <td>34.0</td>\n",
       "      <td>Urban</td>\n",
       "      <td>Yes</td>\n",
       "      <td>Europe</td>\n",
       "      <td>66.0</td>\n",
       "    </tr>\n",
       "    <tr>\n",
       "      <th>3</th>\n",
       "      <td>4</td>\n",
       "      <td>Yes</td>\n",
       "      <td>Localized</td>\n",
       "      <td>Yes</td>\n",
       "      <td>Moderate</td>\n",
       "      <td>No</td>\n",
       "      <td>No</td>\n",
       "      <td>M</td>\n",
       "      <td>No</td>\n",
       "      <td>Moderate</td>\n",
       "      <td>...</td>\n",
       "      <td>Obese</td>\n",
       "      <td>Low</td>\n",
       "      <td>Regular</td>\n",
       "      <td>No</td>\n",
       "      <td>Radiotherapy</td>\n",
       "      <td>71.0</td>\n",
       "      <td>Urban</td>\n",
       "      <td>No</td>\n",
       "      <td>Asia</td>\n",
       "      <td>69.0</td>\n",
       "    </tr>\n",
       "    <tr>\n",
       "      <th>4</th>\n",
       "      <td>5</td>\n",
       "      <td>No</td>\n",
       "      <td>Regional</td>\n",
       "      <td>No</td>\n",
       "      <td>Moderate</td>\n",
       "      <td>Yes</td>\n",
       "      <td>Yes</td>\n",
       "      <td>M</td>\n",
       "      <td>No</td>\n",
       "      <td>Low</td>\n",
       "      <td>...</td>\n",
       "      <td>Overweight</td>\n",
       "      <td>Low</td>\n",
       "      <td>Regular</td>\n",
       "      <td>No</td>\n",
       "      <td>Radiotherapy</td>\n",
       "      <td>48.0</td>\n",
       "      <td>Rural</td>\n",
       "      <td>Yes</td>\n",
       "      <td>North America</td>\n",
       "      <td>50.0</td>\n",
       "    </tr>\n",
       "  </tbody>\n",
       "</table>\n",
       "<p>5 rows × 29 columns</p>\n",
       "</div>"
      ],
      "text/plain": [
       "   ID Alcohol Consumption Cancer Stage Diabetes Diet Risk Early Detection  \\\n",
       "0   1                  No    Localized       No  Moderate              No   \n",
       "1   2                  No     Regional       No       Low              No   \n",
       "2   3                  No    Localized       No       Low             Yes   \n",
       "3   4                 Yes    Localized      Yes  Moderate              No   \n",
       "4   5                  No     Regional       No  Moderate             Yes   \n",
       "\n",
       "  Family History Gender Genetic Mutation Healthcare Access  ...  Obesity BMI  \\\n",
       "0             No      M               No              High  ...   Overweight   \n",
       "1             No      M               No          Moderate  ...       Normal   \n",
       "2             No      M               No              High  ...       Normal   \n",
       "3             No      M               No          Moderate  ...        Obese   \n",
       "4            Yes      M               No               Low  ...   Overweight   \n",
       "\n",
       "  Physical Activity Screening History  Smoking History Treatment Type  \\\n",
       "0               Low           Regular               No   Chemotherapy   \n",
       "1               Low         Irregular              Yes   Chemotherapy   \n",
       "2          Moderate             Never              Yes        Surgery   \n",
       "3               Low           Regular               No   Radiotherapy   \n",
       "4               Low           Regular               No   Radiotherapy   \n",
       "\n",
       "  Tumor Size (mm) Urban or Rural  Survival Prediction      Continent   Age  \n",
       "0            33.0          Urban                  Yes         Europe  59.0  \n",
       "1            17.0          Urban                   No           Asia  67.0  \n",
       "2            34.0          Urban                  Yes         Europe  66.0  \n",
       "3            71.0          Urban                   No           Asia  69.0  \n",
       "4            48.0          Rural                  Yes  North America  50.0  \n",
       "\n",
       "[5 rows x 29 columns]"
      ]
     },
     "execution_count": 39,
     "metadata": {},
     "output_type": "execute_result"
    }
   ],
   "source": [
    "cancer_df_reduced.head()"
   ]
  },
  {
   "cell_type": "markdown",
   "metadata": {},
   "source": [
    "The dataset was split into training, validation, and test sets to ensure robust model evaluation and to prevent overfitting. The initial split separated 15% of the data as the test set, which will be used for the final evaluation of the model's performance. This ensures that the test set remains completely unseen during the training and validation phases, providing an unbiased assessment of the model's generalization capability.\n",
    "\n",
    "The proportions were chosen to maintain a balance between having enough data for training the model and having sufficient data for validation and testing to ensure reliable performance metrics."
   ]
  },
  {
   "cell_type": "code",
   "execution_count": 40,
   "metadata": {},
   "outputs": [
    {
     "name": "stdout",
     "output_type": "stream",
     "text": [
      "X_train shape: (52522, 28)\n",
      "X_val shape: (11257, 28)\n",
      "X_test shape: (11256, 28)\n",
      "y_train shape: (52522,)\n",
      "y_val shape: (11257,)\n",
      "y_test shape: (11256,)\n"
     ]
    }
   ],
   "source": [
    "from sklearn.model_selection import train_test_split\n",
    "\n",
    "X = cancer_df_reduced.drop(columns=['Survival Prediction'])\n",
    "y = cancer_df_reduced['Survival Prediction'] \n",
    "\n",
    "# First split to separate the test set (15% of the data)\n",
    "X_temp, X_test, y_temp, y_test = train_test_split(X, y, test_size=0.15, random_state=42, stratify=y)\n",
    "\n",
    "# Split the remaining data into training and validation sets\n",
    "# test_size=0.1765 because 15/85 ≈ 0.1765 (to get 15% of the original total)\n",
    "X_train, X_val, y_train, y_val = train_test_split(X_temp, y_temp, test_size=0.1765, random_state=42, stratify=y_temp)\n",
    "\n",
    "# Verify the sizes and proportions\n",
    "print(f\"X_train shape: {X_train.shape}\")\n",
    "print(f\"X_val shape: {X_val.shape}\")\n",
    "print(f\"X_test shape: {X_test.shape}\")\n",
    "print(f\"y_train shape: {y_train.shape}\")\n",
    "print(f\"y_val shape: {y_val.shape}\")\n",
    "print(f\"y_test shape: {y_test.shape}\")"
   ]
  }
 ],
 "metadata": {
  "kernelspec": {
   "display_name": "Python 3",
   "language": "python",
   "name": "python3"
  },
  "language_info": {
   "codemirror_mode": {
    "name": "ipython",
    "version": 3
   },
   "file_extension": ".py",
   "mimetype": "text/x-python",
   "name": "python",
   "nbconvert_exporter": "python",
   "pygments_lexer": "ipython3",
   "version": "3.12.4"
  }
 },
 "nbformat": 4,
 "nbformat_minor": 2
}
